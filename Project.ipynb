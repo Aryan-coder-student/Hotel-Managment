{
 "cells": [
  {
   "cell_type": "markdown",
   "metadata": {},
   "source": [
    "# **<u> Hotel Management </u>**"
   ]
  },
  {
   "cell_type": "code",
   "execution_count": 9,
   "metadata": {},
   "outputs": [],
   "source": [
    "import mysql.connector as msqc\n",
    "import numpy as np\n",
    "from school import Roomavailable , Person_search\n",
    "from datetime import date , time , datetime\n",
    "db = msqc.connect(\n",
    "    host=\"localhost\",\n",
    "    username=\"root\",\n",
    "    password=\"activa123456SWEETMANGO\",\n",
    "    database=\"hotel\",\n",
    ")\n",
    "cur = db.cursor()\n"
   ]
  },
  {
   "cell_type": "markdown",
   "metadata": {},
   "source": [
    "# <u> Creating Rooms No. having specific no. of  beds </u>"
   ]
  },
  {
   "cell_type": "code",
   "execution_count": 10,
   "metadata": {},
   "outputs": [],
   "source": [
    "room_1_beds = np.arange(100, 140)\n",
    "room_2_beds = np.arange(141, 181)\n",
    "room_3_beds = np.arange(181, 221)\n",
    "si = np.size(room_3_beds)\n"
   ]
  },
  {
   "cell_type": "markdown",
   "metadata": {},
   "source": [
    "## Creating Table for Available Rooms"
   ]
  },
  {
   "cell_type": "code",
   "execution_count": 11,
   "metadata": {},
   "outputs": [],
   "source": [
    "cur.execute(\n",
    "    \"CREATE Table Rooms (one_bed INT , two_beds INT , three_beds INT , Available_one_bed VARCHAR(100) , Available_two_bed VARCHAR(100) , Available_three_bed VARCHAR(100))\"\n",
    ")\n"
   ]
  },
  {
   "cell_type": "markdown",
   "metadata": {},
   "source": [
    "### Inserting Room No with availabilty"
   ]
  },
  {
   "cell_type": "code",
   "execution_count": 12,
   "metadata": {},
   "outputs": [],
   "source": [
    "for i in range(si):\n",
    "    room = (\n",
    "        int(room_1_beds[i]),\n",
    "        int(room_2_beds[i]),\n",
    "        int(room_3_beds[i]),\"A\",\"A\",\"A\",)\n",
    "    s = \"INSERT INTO Rooms Values(%s , %s , %s , %s , %s , %s)\"\n",
    "    cur.execute(s, room)\n",
    "    db.commit()\n"
   ]
  },
  {
   "cell_type": "markdown",
   "metadata": {},
   "source": [
    "# <u> Programme for searching and booking room for customer </u>"
   ]
  },
  {
   "cell_type": "code",
   "execution_count": 13,
   "metadata": {},
   "outputs": [],
   "source": [
    "what = input(\"Search(s) or Booking(b) : \")"
   ]
  },
  {
   "cell_type": "markdown",
   "metadata": {},
   "source": [
    "## Creating Table</br>"
   ]
  },
  {
   "cell_type": "code",
   "execution_count": 14,
   "metadata": {},
   "outputs": [],
   "source": [
    "cur.execute(\n",
    "    \"CREATE TABLE Booking_details(Date VARCHAR(100) , Check_in VARCHAR(100) , Room_Beds INT, Name VARCHAR(100) ,No_of_members BigINT ,Contact_No BigINT,No_of_Days INT,Total_amount BigINT , Room_no INT)\"\n",
    ")"
   ]
  },
  {
   "cell_type": "markdown",
   "metadata": {},
   "source": [
    "## Booking\n"
   ]
  },
  {
   "cell_type": "markdown",
   "metadata": {},
   "source": [
    "### Single Booking"
   ]
  },
  {
   "cell_type": "code",
   "execution_count": 15,
   "metadata": {},
   "outputs": [],
   "source": [
    "if what == \"b\":\n",
    "    book = input(\"Bulk Booking(b) or Single Booking(s) : \")\n",
    "    if book == \"s\":\n",
    "        bed_no = int(input(\"No. of Bed(s)[Max 3 beds are there] : \"))\n",
    "        name = input(\"Name : \")\n",
    "        mems = int(input(\"No. of members :\"))\n",
    "        intime = datetime.now().strftime(\"%H:%M\")\n",
    "        number = int(input(\"Contact No : \"))\n",
    "        day = int(input(\"Days : \"))\n",
    "        operation=Roomavailable(date.today(),bed_no,name.capitalize(),mems,intime,number,day);operation.bed()        "
   ]
  },
  {
   "cell_type": "markdown",
   "metadata": {},
   "source": [
    "###            Bulk Booking\n"
   ]
  },
  {
   "cell_type": "code",
   "execution_count": null,
   "metadata": {},
   "outputs": [],
   "source": [
    "    if book == \"b\":\n",
    "        no_of_rooms = int(input(\"How many rooms : \"))\n",
    "        name = input(\"Name : \")\n",
    "        number = int(input(\"Contact No : \"))\n",
    "        for room_no in range(no_of_rooms):\n",
    "            bed_no = int(input(\"No. of Bed(s)[Max 3 beds are there] : \"))\n",
    "            mems = int(input(\"No. of members :\"))\n",
    "            intime = datetime.now().strftime(\"%H:%M\")\n",
    "            day = int(input(\"Days : \"))\n",
    "            operation=Roomavailable(date.today(),bed_no,name.capitalize(),mems,intime,number,day);operation.bed()"
   ]
  },
  {
   "cell_type": "markdown",
   "metadata": {},
   "source": [
    "###   Searching through Name"
   ]
  },
  {
   "cell_type": "code",
   "execution_count": 17,
   "metadata": {},
   "outputs": [],
   "source": [
    "if what=='s' :\n",
    "    name = input(\"Enter the Room No. : \")\n",
    "    operation = Person_search(name.capitalize())\n",
    "    operation.search()"
   ]
  },
  {
   "cell_type": "markdown",
   "metadata": {},
   "source": [
    "* Few things to learn :\n",
    "    1. [What is numpy and arrange function in numpy](https://www.w3schools.com/python/numpy/numpy_intro.asp)\n",
    "    2. [OOP in python](https://youtu.be/rfscVS0vtbw?t=14908)\n",
    "    3. [What is Datetime Module and about objects date , time {Used in programme}.](https://www.geeksforgeeks.org/python-datetime-module/)  "
   ]
  }
 ],
 "metadata": {
  "interpreter": {
   "hash": "005148f6452e5f296b0053f3f5aaedc489b2ac49b9ce542f24174d44a9c6260c"
  },
  "kernelspec": {
   "display_name": "Python 3 (ipykernel)",
   "language": "python",
   "name": "python3"
  },
  "language_info": {
   "codemirror_mode": {
    "name": "ipython",
    "version": 3
   },
   "file_extension": ".py",
   "mimetype": "text/x-python",
   "name": "python",
   "nbconvert_exporter": "python",
   "pygments_lexer": "ipython3",
   "version": "3.9.1"
  }
 },
 "nbformat": 4,
 "nbformat_minor": 2
}
